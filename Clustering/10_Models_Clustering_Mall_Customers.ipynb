{
  "metadata": {
    "kernelspec": {
      "language": "python",
      "display_name": "Python 3",
      "name": "python3"
    },
    "language_info": {
      "name": "python",
      "version": "3.6.6",
      "mimetype": "text/x-python",
      "codemirror_mode": {
        "name": "ipython",
        "version": 3
      },
      "pygments_lexer": "ipython3",
      "nbconvert_exporter": "python",
      "file_extension": ".py"
    },
    "colab": {
      "provenance": [],
      "collapsed_sections": []
    }
  },
  "nbformat_minor": 0,
  "nbformat": 4,
  "cells": [
    {
      "cell_type": "markdown",
      "source": [
        "## Week 6 Practitioner Machine Learning \n",
        "### Thoriq AS\n"
      ],
      "metadata": {
        "id": "tWFn0DLul_4a"
      }
    },
    {
      "cell_type": "markdown",
      "source": [
        "<a id = \"2\"></a><br>\n",
        "## Import Libraries"
      ],
      "metadata": {
        "id": "LWTrFMTwkqCE"
      }
    },
    {
      "cell_type": "code",
      "source": [
        "import pandas as pd\n",
        "import matplotlib.pyplot as plt\n",
        "import numpy as np\n",
        "from numpy import unique\n",
        "from sklearn.cluster import KMeans\n",
        "from sklearn.cluster import AffinityPropagation\n",
        "from sklearn.cluster import Birch\n",
        "from sklearn.cluster import DBSCAN\n",
        "from sklearn.cluster import MiniBatchKMeans\n",
        "from sklearn.cluster import MeanShift\n",
        "from sklearn.cluster import OPTICS\n",
        "from sklearn.cluster import SpectralClustering\n",
        "from sklearn.mixture import GaussianMixture\n",
        "from sklearn.cluster import AgglomerativeClustering\n",
        "from sklearn import metrics\n",
        "                           "
      ],
      "metadata": {
        "_uuid": "8f2839f25d086af736a60e9eeb907d3b93b6e0e5",
        "_cell_guid": "b1076dfc-b9ad-4769-8c92-a6c4dae69d19",
        "execution": {
          "iopub.status.busy": "2022-11-05T11:29:14.112554Z",
          "iopub.execute_input": "2022-11-05T11:29:14.113025Z",
          "iopub.status.idle": "2022-11-05T11:29:14.126611Z",
          "shell.execute_reply.started": "2022-11-05T11:29:14.112975Z",
          "shell.execute_reply": "2022-11-05T11:29:14.125572Z"
        },
        "trusted": true,
        "id": "I0ws6tNpkqCG"
      },
      "execution_count": 46,
      "outputs": []
    },
    {
      "cell_type": "markdown",
      "source": [
        "<a id = \"3\"></a><br>\n",
        "## Load Dataset"
      ],
      "metadata": {
        "id": "rkoh_9iBkqCI"
      }
    },
    {
      "cell_type": "code",
      "source": [
        "!pip install -q kaggle\n",
        "from google.colab import files\n",
        "\n",
        "# Upload Token API Kaggle\n",
        "files.upload()"
      ],
      "metadata": {
        "id": "-gbr5l0Pk_l8"
      },
      "execution_count": null,
      "outputs": []
    },
    {
      "cell_type": "code",
      "source": [
        "!mkdir ~/.kaggle\n",
        "!cp kaggle.json ~/.kaggle/\n",
        "! chmod 600 ~/.kaggle/kaggle.json\n",
        "!kaggle datasets download -d shwetabh123/mall-customers --unzip"
      ],
      "metadata": {
        "id": "QTeZi7K3lE1h"
      },
      "execution_count": null,
      "outputs": []
    },
    {
      "cell_type": "code",
      "source": [
        "data = pd.read_csv('Mall_Customers.csv', index_col=0)\n",
        "data.head()"
      ],
      "metadata": {
        "_uuid": "d629ff2d2480ee46fbb7e2d37f6b5fab8052498a",
        "_cell_guid": "79c7e3d0-c299-4dcb-8224-4455121ee9b0",
        "execution": {
          "iopub.status.busy": "2022-11-05T11:29:14.129131Z",
          "iopub.execute_input": "2022-11-05T11:29:14.129499Z",
          "iopub.status.idle": "2022-11-05T11:29:14.150089Z",
          "shell.execute_reply.started": "2022-11-05T11:29:14.129457Z",
          "shell.execute_reply": "2022-11-05T11:29:14.148951Z"
        },
        "trusted": true,
        "colab": {
          "base_uri": "https://localhost:8080/",
          "height": 238
        },
        "id": "7N1alC4lkqCJ",
        "outputId": "a18a0424-9581-4ea7-bddf-8d9f5abe85c9"
      },
      "execution_count": 49,
      "outputs": [
        {
          "output_type": "execute_result",
          "data": {
            "text/plain": [
              "             Genre  Age  Annual Income (k$)  Spending Score (1-100)\n",
              "CustomerID                                                         \n",
              "1             Male   19                  15                      39\n",
              "2             Male   21                  15                      81\n",
              "3           Female   20                  16                       6\n",
              "4           Female   23                  16                      77\n",
              "5           Female   31                  17                      40"
            ],
            "text/html": [
              "\n",
              "  <div id=\"df-b55d8eeb-2305-428f-b982-c18d64a87879\">\n",
              "    <div class=\"colab-df-container\">\n",
              "      <div>\n",
              "<style scoped>\n",
              "    .dataframe tbody tr th:only-of-type {\n",
              "        vertical-align: middle;\n",
              "    }\n",
              "\n",
              "    .dataframe tbody tr th {\n",
              "        vertical-align: top;\n",
              "    }\n",
              "\n",
              "    .dataframe thead th {\n",
              "        text-align: right;\n",
              "    }\n",
              "</style>\n",
              "<table border=\"1\" class=\"dataframe\">\n",
              "  <thead>\n",
              "    <tr style=\"text-align: right;\">\n",
              "      <th></th>\n",
              "      <th>Genre</th>\n",
              "      <th>Age</th>\n",
              "      <th>Annual Income (k$)</th>\n",
              "      <th>Spending Score (1-100)</th>\n",
              "    </tr>\n",
              "    <tr>\n",
              "      <th>CustomerID</th>\n",
              "      <th></th>\n",
              "      <th></th>\n",
              "      <th></th>\n",
              "      <th></th>\n",
              "    </tr>\n",
              "  </thead>\n",
              "  <tbody>\n",
              "    <tr>\n",
              "      <th>1</th>\n",
              "      <td>Male</td>\n",
              "      <td>19</td>\n",
              "      <td>15</td>\n",
              "      <td>39</td>\n",
              "    </tr>\n",
              "    <tr>\n",
              "      <th>2</th>\n",
              "      <td>Male</td>\n",
              "      <td>21</td>\n",
              "      <td>15</td>\n",
              "      <td>81</td>\n",
              "    </tr>\n",
              "    <tr>\n",
              "      <th>3</th>\n",
              "      <td>Female</td>\n",
              "      <td>20</td>\n",
              "      <td>16</td>\n",
              "      <td>6</td>\n",
              "    </tr>\n",
              "    <tr>\n",
              "      <th>4</th>\n",
              "      <td>Female</td>\n",
              "      <td>23</td>\n",
              "      <td>16</td>\n",
              "      <td>77</td>\n",
              "    </tr>\n",
              "    <tr>\n",
              "      <th>5</th>\n",
              "      <td>Female</td>\n",
              "      <td>31</td>\n",
              "      <td>17</td>\n",
              "      <td>40</td>\n",
              "    </tr>\n",
              "  </tbody>\n",
              "</table>\n",
              "</div>\n",
              "      <button class=\"colab-df-convert\" onclick=\"convertToInteractive('df-b55d8eeb-2305-428f-b982-c18d64a87879')\"\n",
              "              title=\"Convert this dataframe to an interactive table.\"\n",
              "              style=\"display:none;\">\n",
              "        \n",
              "  <svg xmlns=\"http://www.w3.org/2000/svg\" height=\"24px\"viewBox=\"0 0 24 24\"\n",
              "       width=\"24px\">\n",
              "    <path d=\"M0 0h24v24H0V0z\" fill=\"none\"/>\n",
              "    <path d=\"M18.56 5.44l.94 2.06.94-2.06 2.06-.94-2.06-.94-.94-2.06-.94 2.06-2.06.94zm-11 1L8.5 8.5l.94-2.06 2.06-.94-2.06-.94L8.5 2.5l-.94 2.06-2.06.94zm10 10l.94 2.06.94-2.06 2.06-.94-2.06-.94-.94-2.06-.94 2.06-2.06.94z\"/><path d=\"M17.41 7.96l-1.37-1.37c-.4-.4-.92-.59-1.43-.59-.52 0-1.04.2-1.43.59L10.3 9.45l-7.72 7.72c-.78.78-.78 2.05 0 2.83L4 21.41c.39.39.9.59 1.41.59.51 0 1.02-.2 1.41-.59l7.78-7.78 2.81-2.81c.8-.78.8-2.07 0-2.86zM5.41 20L4 18.59l7.72-7.72 1.47 1.35L5.41 20z\"/>\n",
              "  </svg>\n",
              "      </button>\n",
              "      \n",
              "  <style>\n",
              "    .colab-df-container {\n",
              "      display:flex;\n",
              "      flex-wrap:wrap;\n",
              "      gap: 12px;\n",
              "    }\n",
              "\n",
              "    .colab-df-convert {\n",
              "      background-color: #E8F0FE;\n",
              "      border: none;\n",
              "      border-radius: 50%;\n",
              "      cursor: pointer;\n",
              "      display: none;\n",
              "      fill: #1967D2;\n",
              "      height: 32px;\n",
              "      padding: 0 0 0 0;\n",
              "      width: 32px;\n",
              "    }\n",
              "\n",
              "    .colab-df-convert:hover {\n",
              "      background-color: #E2EBFA;\n",
              "      box-shadow: 0px 1px 2px rgba(60, 64, 67, 0.3), 0px 1px 3px 1px rgba(60, 64, 67, 0.15);\n",
              "      fill: #174EA6;\n",
              "    }\n",
              "\n",
              "    [theme=dark] .colab-df-convert {\n",
              "      background-color: #3B4455;\n",
              "      fill: #D2E3FC;\n",
              "    }\n",
              "\n",
              "    [theme=dark] .colab-df-convert:hover {\n",
              "      background-color: #434B5C;\n",
              "      box-shadow: 0px 1px 3px 1px rgba(0, 0, 0, 0.15);\n",
              "      filter: drop-shadow(0px 1px 2px rgba(0, 0, 0, 0.3));\n",
              "      fill: #FFFFFF;\n",
              "    }\n",
              "  </style>\n",
              "\n",
              "      <script>\n",
              "        const buttonEl =\n",
              "          document.querySelector('#df-b55d8eeb-2305-428f-b982-c18d64a87879 button.colab-df-convert');\n",
              "        buttonEl.style.display =\n",
              "          google.colab.kernel.accessAllowed ? 'block' : 'none';\n",
              "\n",
              "        async function convertToInteractive(key) {\n",
              "          const element = document.querySelector('#df-b55d8eeb-2305-428f-b982-c18d64a87879');\n",
              "          const dataTable =\n",
              "            await google.colab.kernel.invokeFunction('convertToInteractive',\n",
              "                                                     [key], {});\n",
              "          if (!dataTable) return;\n",
              "\n",
              "          const docLinkHtml = 'Like what you see? Visit the ' +\n",
              "            '<a target=\"_blank\" href=https://colab.research.google.com/notebooks/data_table.ipynb>data table notebook</a>'\n",
              "            + ' to learn more about interactive tables.';\n",
              "          element.innerHTML = '';\n",
              "          dataTable['output_type'] = 'display_data';\n",
              "          await google.colab.output.renderOutput(dataTable, element);\n",
              "          const docLink = document.createElement('div');\n",
              "          docLink.innerHTML = docLinkHtml;\n",
              "          element.appendChild(docLink);\n",
              "        }\n",
              "      </script>\n",
              "    </div>\n",
              "  </div>\n",
              "  "
            ]
          },
          "metadata": {},
          "execution_count": 49
        }
      ]
    },
    {
      "cell_type": "code",
      "source": [
        "data.drop(['Genre'], axis=1, inplace=True)\n",
        "data.drop(['Age'], axis=1, inplace=True)\n",
        "\n",
        "data.head()"
      ],
      "metadata": {
        "execution": {
          "iopub.status.busy": "2022-11-05T11:29:14.151639Z",
          "iopub.execute_input": "2022-11-05T11:29:14.151896Z",
          "iopub.status.idle": "2022-11-05T11:29:14.166511Z",
          "shell.execute_reply.started": "2022-11-05T11:29:14.151867Z",
          "shell.execute_reply": "2022-11-05T11:29:14.165295Z"
        },
        "trusted": true,
        "colab": {
          "base_uri": "https://localhost:8080/",
          "height": 238
        },
        "id": "mhQVQKtCkqCJ",
        "outputId": "a795020c-61cc-497b-a98a-befa0db5898c"
      },
      "execution_count": 50,
      "outputs": [
        {
          "output_type": "execute_result",
          "data": {
            "text/plain": [
              "            Annual Income (k$)  Spending Score (1-100)\n",
              "CustomerID                                            \n",
              "1                           15                      39\n",
              "2                           15                      81\n",
              "3                           16                       6\n",
              "4                           16                      77\n",
              "5                           17                      40"
            ],
            "text/html": [
              "\n",
              "  <div id=\"df-fff4692c-132e-4758-86c1-109a397b7ace\">\n",
              "    <div class=\"colab-df-container\">\n",
              "      <div>\n",
              "<style scoped>\n",
              "    .dataframe tbody tr th:only-of-type {\n",
              "        vertical-align: middle;\n",
              "    }\n",
              "\n",
              "    .dataframe tbody tr th {\n",
              "        vertical-align: top;\n",
              "    }\n",
              "\n",
              "    .dataframe thead th {\n",
              "        text-align: right;\n",
              "    }\n",
              "</style>\n",
              "<table border=\"1\" class=\"dataframe\">\n",
              "  <thead>\n",
              "    <tr style=\"text-align: right;\">\n",
              "      <th></th>\n",
              "      <th>Annual Income (k$)</th>\n",
              "      <th>Spending Score (1-100)</th>\n",
              "    </tr>\n",
              "    <tr>\n",
              "      <th>CustomerID</th>\n",
              "      <th></th>\n",
              "      <th></th>\n",
              "    </tr>\n",
              "  </thead>\n",
              "  <tbody>\n",
              "    <tr>\n",
              "      <th>1</th>\n",
              "      <td>15</td>\n",
              "      <td>39</td>\n",
              "    </tr>\n",
              "    <tr>\n",
              "      <th>2</th>\n",
              "      <td>15</td>\n",
              "      <td>81</td>\n",
              "    </tr>\n",
              "    <tr>\n",
              "      <th>3</th>\n",
              "      <td>16</td>\n",
              "      <td>6</td>\n",
              "    </tr>\n",
              "    <tr>\n",
              "      <th>4</th>\n",
              "      <td>16</td>\n",
              "      <td>77</td>\n",
              "    </tr>\n",
              "    <tr>\n",
              "      <th>5</th>\n",
              "      <td>17</td>\n",
              "      <td>40</td>\n",
              "    </tr>\n",
              "  </tbody>\n",
              "</table>\n",
              "</div>\n",
              "      <button class=\"colab-df-convert\" onclick=\"convertToInteractive('df-fff4692c-132e-4758-86c1-109a397b7ace')\"\n",
              "              title=\"Convert this dataframe to an interactive table.\"\n",
              "              style=\"display:none;\">\n",
              "        \n",
              "  <svg xmlns=\"http://www.w3.org/2000/svg\" height=\"24px\"viewBox=\"0 0 24 24\"\n",
              "       width=\"24px\">\n",
              "    <path d=\"M0 0h24v24H0V0z\" fill=\"none\"/>\n",
              "    <path d=\"M18.56 5.44l.94 2.06.94-2.06 2.06-.94-2.06-.94-.94-2.06-.94 2.06-2.06.94zm-11 1L8.5 8.5l.94-2.06 2.06-.94-2.06-.94L8.5 2.5l-.94 2.06-2.06.94zm10 10l.94 2.06.94-2.06 2.06-.94-2.06-.94-.94-2.06-.94 2.06-2.06.94z\"/><path d=\"M17.41 7.96l-1.37-1.37c-.4-.4-.92-.59-1.43-.59-.52 0-1.04.2-1.43.59L10.3 9.45l-7.72 7.72c-.78.78-.78 2.05 0 2.83L4 21.41c.39.39.9.59 1.41.59.51 0 1.02-.2 1.41-.59l7.78-7.78 2.81-2.81c.8-.78.8-2.07 0-2.86zM5.41 20L4 18.59l7.72-7.72 1.47 1.35L5.41 20z\"/>\n",
              "  </svg>\n",
              "      </button>\n",
              "      \n",
              "  <style>\n",
              "    .colab-df-container {\n",
              "      display:flex;\n",
              "      flex-wrap:wrap;\n",
              "      gap: 12px;\n",
              "    }\n",
              "\n",
              "    .colab-df-convert {\n",
              "      background-color: #E8F0FE;\n",
              "      border: none;\n",
              "      border-radius: 50%;\n",
              "      cursor: pointer;\n",
              "      display: none;\n",
              "      fill: #1967D2;\n",
              "      height: 32px;\n",
              "      padding: 0 0 0 0;\n",
              "      width: 32px;\n",
              "    }\n",
              "\n",
              "    .colab-df-convert:hover {\n",
              "      background-color: #E2EBFA;\n",
              "      box-shadow: 0px 1px 2px rgba(60, 64, 67, 0.3), 0px 1px 3px 1px rgba(60, 64, 67, 0.15);\n",
              "      fill: #174EA6;\n",
              "    }\n",
              "\n",
              "    [theme=dark] .colab-df-convert {\n",
              "      background-color: #3B4455;\n",
              "      fill: #D2E3FC;\n",
              "    }\n",
              "\n",
              "    [theme=dark] .colab-df-convert:hover {\n",
              "      background-color: #434B5C;\n",
              "      box-shadow: 0px 1px 3px 1px rgba(0, 0, 0, 0.15);\n",
              "      filter: drop-shadow(0px 1px 2px rgba(0, 0, 0, 0.3));\n",
              "      fill: #FFFFFF;\n",
              "    }\n",
              "  </style>\n",
              "\n",
              "      <script>\n",
              "        const buttonEl =\n",
              "          document.querySelector('#df-fff4692c-132e-4758-86c1-109a397b7ace button.colab-df-convert');\n",
              "        buttonEl.style.display =\n",
              "          google.colab.kernel.accessAllowed ? 'block' : 'none';\n",
              "\n",
              "        async function convertToInteractive(key) {\n",
              "          const element = document.querySelector('#df-fff4692c-132e-4758-86c1-109a397b7ace');\n",
              "          const dataTable =\n",
              "            await google.colab.kernel.invokeFunction('convertToInteractive',\n",
              "                                                     [key], {});\n",
              "          if (!dataTable) return;\n",
              "\n",
              "          const docLinkHtml = 'Like what you see? Visit the ' +\n",
              "            '<a target=\"_blank\" href=https://colab.research.google.com/notebooks/data_table.ipynb>data table notebook</a>'\n",
              "            + ' to learn more about interactive tables.';\n",
              "          element.innerHTML = '';\n",
              "          dataTable['output_type'] = 'display_data';\n",
              "          await google.colab.output.renderOutput(dataTable, element);\n",
              "          const docLink = document.createElement('div');\n",
              "          docLink.innerHTML = docLinkHtml;\n",
              "          element.appendChild(docLink);\n",
              "        }\n",
              "      </script>\n",
              "    </div>\n",
              "  </div>\n",
              "  "
            ]
          },
          "metadata": {},
          "execution_count": 50
        }
      ]
    },
    {
      "cell_type": "code",
      "source": [
        "data.isnull().sum()"
      ],
      "metadata": {
        "execution": {
          "iopub.status.busy": "2022-11-05T11:29:14.167893Z",
          "iopub.execute_input": "2022-11-05T11:29:14.168154Z",
          "iopub.status.idle": "2022-11-05T11:29:14.179620Z",
          "shell.execute_reply.started": "2022-11-05T11:29:14.168110Z",
          "shell.execute_reply": "2022-11-05T11:29:14.178610Z"
        },
        "trusted": true,
        "colab": {
          "base_uri": "https://localhost:8080/"
        },
        "id": "GRlOXxEUkqCJ",
        "outputId": "d739dede-f2a7-431d-ca3c-70872b0b4a20"
      },
      "execution_count": 51,
      "outputs": [
        {
          "output_type": "execute_result",
          "data": {
            "text/plain": [
              "Annual Income (k$)        0\n",
              "Spending Score (1-100)    0\n",
              "dtype: int64"
            ]
          },
          "metadata": {},
          "execution_count": 51
        }
      ]
    },
    {
      "cell_type": "code",
      "source": [
        "dups = data.duplicated()\n",
        "print(\"Sum duplicate data\",data.duplicated().sum())\n",
        "data[dups]"
      ],
      "metadata": {
        "execution": {
          "iopub.status.busy": "2022-11-05T11:29:14.181692Z",
          "iopub.execute_input": "2022-11-05T11:29:14.181920Z",
          "iopub.status.idle": "2022-11-05T11:29:14.201307Z",
          "shell.execute_reply.started": "2022-11-05T11:29:14.181893Z",
          "shell.execute_reply": "2022-11-05T11:29:14.200509Z"
        },
        "trusted": true,
        "colab": {
          "base_uri": "https://localhost:8080/",
          "height": 224
        },
        "id": "SAi0h-krkqCK",
        "outputId": "08c4bf73-1454-4373-d416-e618daf917db"
      },
      "execution_count": 52,
      "outputs": [
        {
          "output_type": "stream",
          "name": "stdout",
          "text": [
            "Sum duplicate data 4\n"
          ]
        },
        {
          "output_type": "execute_result",
          "data": {
            "text/plain": [
              "            Annual Income (k$)  Spending Score (1-100)\n",
              "CustomerID                                            \n",
              "50                          40                      42\n",
              "69                          48                      59\n",
              "132                         71                      75\n",
              "159                         78                       1"
            ],
            "text/html": [
              "\n",
              "  <div id=\"df-8fa20c16-e563-44e4-9013-772fe23ffb7c\">\n",
              "    <div class=\"colab-df-container\">\n",
              "      <div>\n",
              "<style scoped>\n",
              "    .dataframe tbody tr th:only-of-type {\n",
              "        vertical-align: middle;\n",
              "    }\n",
              "\n",
              "    .dataframe tbody tr th {\n",
              "        vertical-align: top;\n",
              "    }\n",
              "\n",
              "    .dataframe thead th {\n",
              "        text-align: right;\n",
              "    }\n",
              "</style>\n",
              "<table border=\"1\" class=\"dataframe\">\n",
              "  <thead>\n",
              "    <tr style=\"text-align: right;\">\n",
              "      <th></th>\n",
              "      <th>Annual Income (k$)</th>\n",
              "      <th>Spending Score (1-100)</th>\n",
              "    </tr>\n",
              "    <tr>\n",
              "      <th>CustomerID</th>\n",
              "      <th></th>\n",
              "      <th></th>\n",
              "    </tr>\n",
              "  </thead>\n",
              "  <tbody>\n",
              "    <tr>\n",
              "      <th>50</th>\n",
              "      <td>40</td>\n",
              "      <td>42</td>\n",
              "    </tr>\n",
              "    <tr>\n",
              "      <th>69</th>\n",
              "      <td>48</td>\n",
              "      <td>59</td>\n",
              "    </tr>\n",
              "    <tr>\n",
              "      <th>132</th>\n",
              "      <td>71</td>\n",
              "      <td>75</td>\n",
              "    </tr>\n",
              "    <tr>\n",
              "      <th>159</th>\n",
              "      <td>78</td>\n",
              "      <td>1</td>\n",
              "    </tr>\n",
              "  </tbody>\n",
              "</table>\n",
              "</div>\n",
              "      <button class=\"colab-df-convert\" onclick=\"convertToInteractive('df-8fa20c16-e563-44e4-9013-772fe23ffb7c')\"\n",
              "              title=\"Convert this dataframe to an interactive table.\"\n",
              "              style=\"display:none;\">\n",
              "        \n",
              "  <svg xmlns=\"http://www.w3.org/2000/svg\" height=\"24px\"viewBox=\"0 0 24 24\"\n",
              "       width=\"24px\">\n",
              "    <path d=\"M0 0h24v24H0V0z\" fill=\"none\"/>\n",
              "    <path d=\"M18.56 5.44l.94 2.06.94-2.06 2.06-.94-2.06-.94-.94-2.06-.94 2.06-2.06.94zm-11 1L8.5 8.5l.94-2.06 2.06-.94-2.06-.94L8.5 2.5l-.94 2.06-2.06.94zm10 10l.94 2.06.94-2.06 2.06-.94-2.06-.94-.94-2.06-.94 2.06-2.06.94z\"/><path d=\"M17.41 7.96l-1.37-1.37c-.4-.4-.92-.59-1.43-.59-.52 0-1.04.2-1.43.59L10.3 9.45l-7.72 7.72c-.78.78-.78 2.05 0 2.83L4 21.41c.39.39.9.59 1.41.59.51 0 1.02-.2 1.41-.59l7.78-7.78 2.81-2.81c.8-.78.8-2.07 0-2.86zM5.41 20L4 18.59l7.72-7.72 1.47 1.35L5.41 20z\"/>\n",
              "  </svg>\n",
              "      </button>\n",
              "      \n",
              "  <style>\n",
              "    .colab-df-container {\n",
              "      display:flex;\n",
              "      flex-wrap:wrap;\n",
              "      gap: 12px;\n",
              "    }\n",
              "\n",
              "    .colab-df-convert {\n",
              "      background-color: #E8F0FE;\n",
              "      border: none;\n",
              "      border-radius: 50%;\n",
              "      cursor: pointer;\n",
              "      display: none;\n",
              "      fill: #1967D2;\n",
              "      height: 32px;\n",
              "      padding: 0 0 0 0;\n",
              "      width: 32px;\n",
              "    }\n",
              "\n",
              "    .colab-df-convert:hover {\n",
              "      background-color: #E2EBFA;\n",
              "      box-shadow: 0px 1px 2px rgba(60, 64, 67, 0.3), 0px 1px 3px 1px rgba(60, 64, 67, 0.15);\n",
              "      fill: #174EA6;\n",
              "    }\n",
              "\n",
              "    [theme=dark] .colab-df-convert {\n",
              "      background-color: #3B4455;\n",
              "      fill: #D2E3FC;\n",
              "    }\n",
              "\n",
              "    [theme=dark] .colab-df-convert:hover {\n",
              "      background-color: #434B5C;\n",
              "      box-shadow: 0px 1px 3px 1px rgba(0, 0, 0, 0.15);\n",
              "      filter: drop-shadow(0px 1px 2px rgba(0, 0, 0, 0.3));\n",
              "      fill: #FFFFFF;\n",
              "    }\n",
              "  </style>\n",
              "\n",
              "      <script>\n",
              "        const buttonEl =\n",
              "          document.querySelector('#df-8fa20c16-e563-44e4-9013-772fe23ffb7c button.colab-df-convert');\n",
              "        buttonEl.style.display =\n",
              "          google.colab.kernel.accessAllowed ? 'block' : 'none';\n",
              "\n",
              "        async function convertToInteractive(key) {\n",
              "          const element = document.querySelector('#df-8fa20c16-e563-44e4-9013-772fe23ffb7c');\n",
              "          const dataTable =\n",
              "            await google.colab.kernel.invokeFunction('convertToInteractive',\n",
              "                                                     [key], {});\n",
              "          if (!dataTable) return;\n",
              "\n",
              "          const docLinkHtml = 'Like what you see? Visit the ' +\n",
              "            '<a target=\"_blank\" href=https://colab.research.google.com/notebooks/data_table.ipynb>data table notebook</a>'\n",
              "            + ' to learn more about interactive tables.';\n",
              "          element.innerHTML = '';\n",
              "          dataTable['output_type'] = 'display_data';\n",
              "          await google.colab.output.renderOutput(dataTable, element);\n",
              "          const docLink = document.createElement('div');\n",
              "          docLink.innerHTML = docLinkHtml;\n",
              "          element.appendChild(docLink);\n",
              "        }\n",
              "      </script>\n",
              "    </div>\n",
              "  </div>\n",
              "  "
            ]
          },
          "metadata": {},
          "execution_count": 52
        }
      ]
    },
    {
      "cell_type": "code",
      "source": [
        "data = data.drop_duplicates()\n",
        "print(data.duplicated().sum())"
      ],
      "metadata": {
        "execution": {
          "iopub.status.busy": "2022-11-05T11:29:14.202839Z",
          "iopub.execute_input": "2022-11-05T11:29:14.203091Z",
          "iopub.status.idle": "2022-11-05T11:29:14.212862Z",
          "shell.execute_reply.started": "2022-11-05T11:29:14.203062Z",
          "shell.execute_reply": "2022-11-05T11:29:14.212058Z"
        },
        "trusted": true,
        "colab": {
          "base_uri": "https://localhost:8080/"
        },
        "id": "4dk1LhQrkqCK",
        "outputId": "8864047f-d1dd-4ca4-ebc1-ebd5d0a218a1"
      },
      "execution_count": 53,
      "outputs": [
        {
          "output_type": "stream",
          "name": "stdout",
          "text": [
            "0\n"
          ]
        }
      ]
    },
    {
      "cell_type": "markdown",
      "source": [
        "<a id = \"4\"></a><br>\n",
        "## 1 - K-Means "
      ],
      "metadata": {
        "id": "Hi8AW3H8kqCK"
      }
    },
    {
      "cell_type": "code",
      "source": [
        "k_means = KMeans(n_clusters=2)\n",
        "k_means.fit(data)"
      ],
      "metadata": {
        "execution": {
          "iopub.status.busy": "2022-11-05T11:29:14.214064Z",
          "iopub.execute_input": "2022-11-05T11:29:14.214379Z",
          "iopub.status.idle": "2022-11-05T11:29:14.264867Z",
          "shell.execute_reply.started": "2022-11-05T11:29:14.214338Z",
          "shell.execute_reply": "2022-11-05T11:29:14.263315Z"
        },
        "trusted": true,
        "colab": {
          "base_uri": "https://localhost:8080/"
        },
        "id": "mX-WePtZkqCL",
        "outputId": "9893d3ff-959a-43d5-f681-81081f66934f"
      },
      "execution_count": 54,
      "outputs": [
        {
          "output_type": "execute_result",
          "data": {
            "text/plain": [
              "KMeans(n_clusters=2)"
            ]
          },
          "metadata": {},
          "execution_count": 54
        }
      ]
    },
    {
      "cell_type": "markdown",
      "source": [
        "### Labels"
      ],
      "metadata": {
        "id": "RbEPUeCRkqCL"
      }
    },
    {
      "cell_type": "code",
      "source": [
        "k_means.labels_"
      ],
      "metadata": {
        "execution": {
          "iopub.status.busy": "2022-11-05T11:29:14.266381Z",
          "iopub.execute_input": "2022-11-05T11:29:14.266634Z",
          "iopub.status.idle": "2022-11-05T11:29:14.274870Z",
          "shell.execute_reply.started": "2022-11-05T11:29:14.266607Z",
          "shell.execute_reply": "2022-11-05T11:29:14.273696Z"
        },
        "trusted": true,
        "colab": {
          "base_uri": "https://localhost:8080/"
        },
        "id": "WLCfgBPDkqCL",
        "outputId": "17afda76-98a8-4f85-d6c3-c8c96acf70c0"
      },
      "execution_count": 55,
      "outputs": [
        {
          "output_type": "execute_result",
          "data": {
            "text/plain": [
              "array([0, 0, 0, 0, 0, 0, 0, 0, 0, 0, 0, 0, 0, 0, 0, 0, 0, 0, 0, 0, 0, 0,\n",
              "       0, 0, 0, 0, 0, 0, 0, 0, 0, 0, 0, 0, 0, 0, 0, 0, 0, 0, 0, 0, 0, 0,\n",
              "       0, 0, 0, 0, 0, 0, 0, 0, 0, 0, 0, 0, 0, 0, 0, 0, 0, 0, 0, 0, 0, 0,\n",
              "       0, 0, 0, 0, 0, 0, 0, 0, 0, 0, 0, 0, 0, 0, 0, 0, 0, 0, 0, 0, 0, 0,\n",
              "       0, 0, 0, 0, 0, 0, 0, 0, 0, 0, 0, 0, 0, 0, 0, 0, 0, 0, 0, 0, 0, 0,\n",
              "       1, 1, 1, 1, 1, 1, 1, 1, 1, 1, 1, 1, 1, 1, 1, 1, 1, 1, 1, 1, 1, 1,\n",
              "       1, 1, 1, 1, 1, 1, 1, 1, 1, 1, 1, 1, 1, 1, 1, 1, 1, 1, 1, 1, 1, 1,\n",
              "       1, 1, 1, 1, 1, 1, 1, 1, 1, 1, 1, 1, 1, 1, 1, 1, 1, 1, 1, 1, 1, 1,\n",
              "       1, 1, 1, 1, 1, 1, 1, 1, 1, 1, 1, 1, 1, 1, 1, 1, 1, 1, 1, 1],\n",
              "      dtype=int32)"
            ]
          },
          "metadata": {},
          "execution_count": 55
        }
      ]
    },
    {
      "cell_type": "code",
      "source": [
        "np.unique(k_means.labels_)"
      ],
      "metadata": {
        "execution": {
          "iopub.status.busy": "2022-11-05T11:29:14.276568Z",
          "iopub.execute_input": "2022-11-05T11:29:14.276904Z",
          "iopub.status.idle": "2022-11-05T11:29:14.288604Z",
          "shell.execute_reply.started": "2022-11-05T11:29:14.276865Z",
          "shell.execute_reply": "2022-11-05T11:29:14.287570Z"
        },
        "trusted": true,
        "colab": {
          "base_uri": "https://localhost:8080/"
        },
        "id": "bGynvWRqkqCM",
        "outputId": "a2afda28-38b4-418c-e3ce-075a24ffd68a"
      },
      "execution_count": 56,
      "outputs": [
        {
          "output_type": "execute_result",
          "data": {
            "text/plain": [
              "array([0, 1], dtype=int32)"
            ]
          },
          "metadata": {},
          "execution_count": 56
        }
      ]
    },
    {
      "cell_type": "code",
      "source": [
        "centers = k_means.cluster_centers_\n",
        "\n",
        "centers"
      ],
      "metadata": {
        "execution": {
          "iopub.status.busy": "2022-11-05T11:29:14.290365Z",
          "iopub.execute_input": "2022-11-05T11:29:14.290699Z",
          "iopub.status.idle": "2022-11-05T11:29:14.301524Z",
          "shell.execute_reply.started": "2022-11-05T11:29:14.290661Z",
          "shell.execute_reply": "2022-11-05T11:29:14.300450Z"
        },
        "trusted": true,
        "colab": {
          "base_uri": "https://localhost:8080/"
        },
        "id": "n1eh5DwKkqCO",
        "outputId": "76876a06-7abe-476d-9355-ce3f27def291"
      },
      "execution_count": 57,
      "outputs": [
        {
          "output_type": "execute_result",
          "data": {
            "text/plain": [
              "array([[41.98181818, 49.87272727],\n",
              "       [84.38372093, 50.89534884]])"
            ]
          },
          "metadata": {},
          "execution_count": 57
        }
      ]
    },
    {
      "cell_type": "code",
      "source": [
        "plt.figure(figsize=(10, 8))\n",
        "\n",
        "plt.scatter(data['Annual Income (k$)'], \n",
        "            data['Spending Score (1-100)'], \n",
        "            c=k_means.labels_, s=100)\n",
        "\n",
        "plt.scatter(centers[:,0], centers[:,1], color='blue', marker='s', s=200) \n",
        "\n",
        "plt.xlabel('Annual Income')\n",
        "plt.ylabel('Spending Score')\n",
        "plt.title('K-Means with 2 clusters')\n",
        "\n",
        "plt.show()"
      ],
      "metadata": {
        "execution": {
          "iopub.status.busy": "2022-11-05T11:29:14.305218Z",
          "iopub.execute_input": "2022-11-05T11:29:14.305551Z",
          "iopub.status.idle": "2022-11-05T11:29:14.571843Z",
          "shell.execute_reply.started": "2022-11-05T11:29:14.305509Z",
          "shell.execute_reply": "2022-11-05T11:29:14.571118Z"
        },
        "trusted": true,
        "colab": {
          "base_uri": "https://localhost:8080/",
          "height": 513
        },
        "id": "VccLil1wkqCO",
        "outputId": "9e72de8f-76d5-4680-c94b-824367c39b64"
      },
      "execution_count": 58,
      "outputs": [
        {
          "output_type": "display_data",
          "data": {
            "text/plain": [
              "<Figure size 720x576 with 1 Axes>"
            ],
            "image/png": "[encoded data removed]"
          },
          "metadata": {
            "needs_background": "light"
          }
        }
      ]
    },
    {
      "cell_type": "markdown",
      "source": [
        "* A measure of how similar a point is to other points in its own cluster and how different it is from points in other clusters."
      ],
      "metadata": {
        "id": "PtdR4CytkqCO"
      }
    },
    {
      "cell_type": "code",
      "source": [
        "from sklearn.metrics import silhouette_score\n",
        "\n",
        "score = silhouette_score (data, k_means.labels_)\n",
        "\n",
        "print(\"Score = \", score)"
      ],
      "metadata": {
        "execution": {
          "iopub.status.busy": "2022-11-05T11:29:14.574258Z",
          "iopub.execute_input": "2022-11-05T11:29:14.574637Z",
          "iopub.status.idle": "2022-11-05T11:29:14.587555Z",
          "shell.execute_reply.started": "2022-11-05T11:29:14.574607Z",
          "shell.execute_reply": "2022-11-05T11:29:14.586330Z"
        },
        "trusted": true,
        "colab": {
          "base_uri": "https://localhost:8080/"
        },
        "id": "frXAK1-UkqCP",
        "outputId": "eadc26b6-f33b-4554-a042-ecc2a1a87c72"
      },
      "execution_count": 59,
      "outputs": [
        {
          "output_type": "stream",
          "name": "stdout",
          "text": [
            "Score =  0.3268547529332457\n"
          ]
        }
      ]
    },
    {
      "cell_type": "code",
      "source": [
        "wscc = []\n",
        "for i in range(1,15): \n",
        "    kmeans = KMeans(n_clusters=i, init=\"k-means++\",random_state=0)\n",
        "    kmeans.fit(data)\n",
        "    wscc.append(kmeans.inertia_)  \n",
        "\n",
        "plt.plot(range(1,15),wscc,marker=\"*\",c=\"black\")\n",
        "plt.title(\"Elbow plot for optimal number of clusters\")"
      ],
      "metadata": {
        "execution": {
          "iopub.status.busy": "2022-11-05T11:29:14.589984Z",
          "iopub.execute_input": "2022-11-05T11:29:14.590897Z",
          "iopub.status.idle": "2022-11-05T11:29:15.492398Z",
          "shell.execute_reply.started": "2022-11-05T11:29:14.590830Z",
          "shell.execute_reply": "2022-11-05T11:29:15.491696Z"
        },
        "trusted": true,
        "colab": {
          "base_uri": "https://localhost:8080/",
          "height": 298
        },
        "id": "rFAI_e3NkqCP",
        "outputId": "7cb87779-13d1-4258-d343-8c9606da1cd2"
      },
      "execution_count": 60,
      "outputs": [
        {
          "output_type": "execute_result",
          "data": {
            "text/plain": [
              "Text(0.5, 1.0, 'Elbow plot for optimal number of clusters')"
            ]
          },
          "metadata": {},
          "execution_count": 60
        },
        {
          "output_type": "display_data",
          "data": {
            "text/plain": [
              "<Figure size 432x288 with 1 Axes>"
            ],
            "image/png": "[encoded data removed]"
          },
          "metadata": {
            "needs_background": "light"
          }
        }
      ]
    },
    {
      "cell_type": "markdown",
      "source": [
        "### KMeans clustering with 5 clusters"
      ],
      "metadata": {
        "id": "N1NPiejTkqCP"
      }
    },
    {
      "cell_type": "code",
      "source": [
        "k_means = KMeans(n_clusters=5)\n",
        "k_means.fit(data)"
      ],
      "metadata": {
        "execution": {
          "iopub.status.busy": "2022-11-05T11:29:15.493655Z",
          "iopub.execute_input": "2022-11-05T11:29:15.494027Z",
          "iopub.status.idle": "2022-11-05T11:29:15.551341Z",
          "shell.execute_reply.started": "2022-11-05T11:29:15.493997Z",
          "shell.execute_reply": "2022-11-05T11:29:15.550490Z"
        },
        "trusted": true,
        "colab": {
          "base_uri": "https://localhost:8080/"
        },
        "id": "AoA7l-2vkqCP",
        "outputId": "0457938e-965b-46c7-e10b-2cce654ef520"
      },
      "execution_count": 61,
      "outputs": [
        {
          "output_type": "execute_result",
          "data": {
            "text/plain": [
              "KMeans(n_clusters=5)"
            ]
          },
          "metadata": {},
          "execution_count": 61
        }
      ]
    },
    {
      "cell_type": "code",
      "source": [
        "np.unique(k_means.labels_)"
      ],
      "metadata": {
        "execution": {
          "iopub.status.busy": "2022-11-05T11:29:15.552729Z",
          "iopub.execute_input": "2022-11-05T11:29:15.553234Z",
          "iopub.status.idle": "2022-11-05T11:29:15.561486Z",
          "shell.execute_reply.started": "2022-11-05T11:29:15.553196Z",
          "shell.execute_reply": "2022-11-05T11:29:15.559872Z"
        },
        "trusted": true,
        "colab": {
          "base_uri": "https://localhost:8080/"
        },
        "id": "qXlGtBn8kqCQ",
        "outputId": "2e468a7c-7ac5-438e-c292-439331430baa"
      },
      "execution_count": 62,
      "outputs": [
        {
          "output_type": "execute_result",
          "data": {
            "text/plain": [
              "array([0, 1, 2, 3, 4], dtype=int32)"
            ]
          },
          "metadata": {},
          "execution_count": 62
        }
      ]
    },
    {
      "cell_type": "code",
      "source": [
        "centers = k_means.cluster_centers_\n",
        "\n",
        "centers"
      ],
      "metadata": {
        "execution": {
          "iopub.status.busy": "2022-11-05T11:29:15.563320Z",
          "iopub.execute_input": "2022-11-05T11:29:15.563658Z",
          "iopub.status.idle": "2022-11-05T11:29:15.577295Z",
          "shell.execute_reply.started": "2022-11-05T11:29:15.563617Z",
          "shell.execute_reply": "2022-11-05T11:29:15.576326Z"
        },
        "trusted": true,
        "colab": {
          "base_uri": "https://localhost:8080/"
        },
        "id": "iURuB-swkqCQ",
        "outputId": "9a183839-a137-49af-d4f9-95ec22422451"
      },
      "execution_count": 63,
      "outputs": [
        {
          "output_type": "execute_result",
          "data": {
            "text/plain": [
              "array([[55.58227848, 49.49367089],\n",
              "       [26.30434783, 20.91304348],\n",
              "       [88.5       , 17.58823529],\n",
              "       [86.94736842, 82.31578947],\n",
              "       [25.72727273, 79.36363636]])"
            ]
          },
          "metadata": {},
          "execution_count": 63
        }
      ]
    },
    {
      "cell_type": "markdown",
      "source": [
        "### Displaying Data in 5 cluster form \n",
        "with 5 centroids"
      ],
      "metadata": {
        "id": "OIitLlwOkqCQ"
      }
    },
    {
      "cell_type": "code",
      "source": [
        "plt.figure(figsize=(10, 8))\n",
        "\n",
        "plt.scatter(data['Annual Income (k$)'], \n",
        "            data['Spending Score (1-100)'], \n",
        "            c=k_means.labels_, s=100)\n",
        "\n",
        "plt.scatter(centers[:,0], centers[:,1], color='blue', marker='s', s=200) \n",
        "\n",
        "plt.xlabel('Annual Income')\n",
        "plt.ylabel('Spending Score')\n",
        "plt.title('5 Cluster K-Means')\n",
        "\n",
        "plt.show()"
      ],
      "metadata": {
        "execution": {
          "iopub.status.busy": "2022-11-05T11:29:15.579037Z",
          "iopub.execute_input": "2022-11-05T11:29:15.579698Z",
          "iopub.status.idle": "2022-11-05T11:29:15.866412Z",
          "shell.execute_reply.started": "2022-11-05T11:29:15.579663Z",
          "shell.execute_reply": "2022-11-05T11:29:15.865430Z"
        },
        "trusted": true,
        "colab": {
          "base_uri": "https://localhost:8080/",
          "height": 513
        },
        "id": "XfFTChVGkqCQ",
        "outputId": "b7adc757-6ee9-45d4-fa1d-e61ba2fc23c9"
      },
      "execution_count": 64,
      "outputs": [
        {
          "output_type": "display_data",
          "data": {
            "text/plain": [
              "<Figure size 720x576 with 1 Axes>"
            ],
            "image/png": "[encoded data removed]"
          },
          "metadata": {
            "needs_background": "light"
          }
        }
      ]
    },
    {
      "cell_type": "markdown",
      "source": [
        "Silhouette Score: This is a better measure to decide the number of clusters to be formulated from the data. "
      ],
      "metadata": {
        "id": "tvdcxWNqkqCR"
      }
    },
    {
      "cell_type": "code",
      "source": [
        "score = metrics.silhouette_score(data, k_means.labels_)\n",
        "\n",
        "print(\"Score = \", score)"
      ],
      "metadata": {
        "execution": {
          "iopub.status.busy": "2022-11-05T11:29:15.868391Z",
          "iopub.execute_input": "2022-11-05T11:29:15.868731Z",
          "iopub.status.idle": "2022-11-05T11:29:15.881189Z",
          "shell.execute_reply.started": "2022-11-05T11:29:15.868692Z",
          "shell.execute_reply": "2022-11-05T11:29:15.879888Z"
        },
        "trusted": true,
        "colab": {
          "base_uri": "https://localhost:8080/"
        },
        "id": "dLtBBEsakqCR",
        "outputId": "e0e2a6f4-e32d-4018-f068-997bd929c9e1"
      },
      "execution_count": 65,
      "outputs": [
        {
          "output_type": "stream",
          "name": "stdout",
          "text": [
            "Score =  0.5564284222254647\n"
          ]
        }
      ]
    },
    {
      "cell_type": "markdown",
      "source": [
        "This function returns the Silhouette Coefficient for each sample.\n",
        "\n",
        "The best value is 1 and the worst value is -1. Values near 0 indicate overlapping clusters."
      ],
      "metadata": {
        "id": "f6Drgk9UkqCR"
      }
    },
    {
      "cell_type": "code",
      "source": [
        "score1 = metrics.silhouette_samples(data, k_means.labels_, metric='euclidean')\n",
        "print(\"Score = \", score1)"
      ],
      "metadata": {
        "execution": {
          "iopub.status.busy": "2022-11-05T11:29:15.883073Z",
          "iopub.execute_input": "2022-11-05T11:29:15.883455Z",
          "iopub.status.idle": "2022-11-05T11:29:15.908358Z",
          "shell.execute_reply.started": "2022-11-05T11:29:15.883416Z",
          "shell.execute_reply": "2022-11-05T11:29:15.907304Z"
        },
        "trusted": true,
        "colab": {
          "base_uri": "https://localhost:8080/"
        },
        "id": "mjsx2DirkqCR",
        "outputId": "dee7b706-1dfd-4e49-ffa0-19a5ec6ce928"
      },
      "execution_count": 66,
      "outputs": [
        {
          "output_type": "stream",
          "name": "stdout",
          "text": [
            "Score =  [ 0.42058156  0.69764828  0.64098168  0.69787503  0.39625792  0.69955425\n",
            "  0.65008973  0.66077915  0.6311537   0.66526376  0.67903198  0.62458628\n",
            "  0.68120773  0.72040309  0.6818028   0.72696211  0.48892105  0.54782283\n",
            "  0.5830248   0.63268171  0.46964565  0.67913461  0.64255371  0.67344569\n",
            "  0.66236238  0.70607939  0.49271166  0.30642444  0.49896171  0.68581694\n",
            "  0.60711902  0.6145521   0.57774789  0.61879893  0.61032609  0.64079498\n",
            "  0.58711256  0.53145543  0.4237897   0.4861926   0.10050917  0.5469578\n",
            " -0.0010924   0.1094514   0.31441421  0.05743346  0.38232409  0.42665168\n",
            "  0.28284192  0.51569284  0.29529878  0.51105117  0.33553589  0.48476093\n",
            "  0.36730182  0.59514223  0.53720876  0.63641009  0.59109983  0.55427788\n",
            "  0.57609672  0.64715773  0.49954798  0.67679557  0.52441048  0.68241494\n",
            "  0.6643781   0.65155809  0.64063336  0.57332704  0.70656066  0.63859256\n",
            "  0.73430186  0.72092231  0.73313434  0.74297781  0.74290677  0.65685476\n",
            "  0.75032463  0.7061781   0.63483614  0.69427359  0.66952134  0.72320015\n",
            "  0.66950342  0.7225541   0.62621031  0.74467814  0.71743869  0.6737561\n",
            "  0.76402177  0.64146601  0.68385228  0.74471229  0.75100815  0.76011672\n",
            "  0.6722736   0.75412736  0.63712489  0.73633518  0.59422053  0.67988278\n",
            "  0.66182582  0.65825135  0.72334583  0.70346986  0.66051575  0.72177688\n",
            "  0.70527944  0.67931609  0.6226631   0.68606599  0.68569597  0.68810302\n",
            "  0.62115113  0.53164577  0.57288894  0.53357735  0.5562875   0.5035195\n",
            "  0.45028419  0.47682141 -0.00146292  0.33182256  0.20301863  0.51169399\n",
            "  0.47668285  0.31056009  0.48694778  0.11844596  0.20385555  0.5222855\n",
            "  0.54447182  0.52616385  0.31211077  0.53879187  0.30775104  0.54969929\n",
            "  0.57506269  0.19437072  0.58894125  0.57655433  0.57627187 -0.02480821\n",
            "  0.43911142  0.48146803  0.61636095  0.55788634  0.61592959  0.51782964\n",
            "  0.50016551  0.56737932  0.61711682  0.55757281  0.53373342  0.43134362\n",
            "  0.10208654  0.60074553  0.60351919  0.6283801   0.50821895  0.55187554\n",
            "  0.60819207  0.6353508   0.50829909  0.27677018  0.65427274  0.56107422\n",
            "  0.6497675   0.65038848  0.65646362  0.65410467  0.65206618  0.44989548\n",
            "  0.65176527  0.64956369  0.46937915  0.63561884  0.63524652  0.63371958\n",
            "  0.34560266  0.60635727  0.57532455  0.46543781  0.608159    0.60267784\n",
            "  0.57653413  0.47669317  0.55663472  0.54891405  0.51311809  0.47932122\n",
            "  0.38788225  0.38254765  0.38458845  0.36668657]\n"
          ]
        }
      ]
    },
    {
      "cell_type": "markdown",
      "source": [
        "<a id = \"5\"></a><br>\n",
        "## 2 - Affinity Propagation\n",
        "Affinity Propagation involves finding a set of exemplars that best summarize the data."
      ],
      "metadata": {
        "id": "I4GMyam3kqCS"
      }
    },
    {
      "cell_type": "code",
      "source": [
        "model_aff = AffinityPropagation(damping=0.9)\n",
        "model_aff.fit(data)\n",
        "#\n",
        "yhat_aff = model_aff.predict(data)\n",
        "clusters_aff = unique(yhat_aff)\n",
        "print(\"Clusters of Affinity Prop.\",clusters_aff)\n",
        "labels_aff = model_aff.labels_\n",
        "centroids_aff = model_aff.cluster_centers_"
      ],
      "metadata": {
        "execution": {
          "iopub.status.busy": "2022-11-05T11:29:15.910545Z",
          "iopub.execute_input": "2022-11-05T11:29:15.912537Z",
          "iopub.status.idle": "2022-11-05T11:29:16.004481Z",
          "shell.execute_reply.started": "2022-11-05T11:29:15.912489Z",
          "shell.execute_reply": "2022-11-05T11:29:16.003257Z"
        },
        "trusted": true,
        "colab": {
          "base_uri": "https://localhost:8080/"
        },
        "id": "i7a117bakqCS",
        "outputId": "9b90883b-6ba6-40f0-aa44-3c4186289463"
      },
      "execution_count": 67,
      "outputs": [
        {
          "output_type": "stream",
          "name": "stdout",
          "text": [
            "Clusters of Affinity Prop. [ 0  1  2  3  4  5  6  7  8  9 10]\n"
          ]
        }
      ]
    },
    {
      "cell_type": "code",
      "source": [
        "plt.figure(figsize=(10, 8))\n",
        "\n",
        "plt.scatter(data['Annual Income (k$)'], \n",
        "            data['Spending Score (1-100)'], \n",
        "            c=labels_aff, s=100)\n",
        "\n",
        "plt.scatter(centroids_aff[:,0], centroids_aff[:,1], color='red', marker='*', s=200) \n",
        "\n",
        "plt.xlabel('Annual Income')\n",
        "plt.ylabel('Spending Score')\n",
        "plt.title('Affinity Propagation')\n",
        "plt.grid()\n",
        "plt.show()"
      ],
      "metadata": {
        "execution": {
          "iopub.status.busy": "2022-11-05T11:29:16.006481Z",
          "iopub.execute_input": "2022-11-05T11:29:16.007139Z",
          "iopub.status.idle": "2022-11-05T11:29:16.264249Z",
          "shell.execute_reply.started": "2022-11-05T11:29:16.007091Z",
          "shell.execute_reply": "2022-11-05T11:29:16.263394Z"
        },
        "trusted": true,
        "colab": {
          "base_uri": "https://localhost:8080/",
          "height": 513
        },
        "id": "PDxV2ptOkqCS",
        "outputId": "92a29da5-a2ae-4682-dc4d-fdf2f64cb977"
      },
      "execution_count": 68,
      "outputs": [
        {
          "output_type": "display_data",
          "data": {
            "text/plain": [
              "<Figure size 720x576 with 1 Axes>"
            ],
            "image/png": "[encoded data removed]"
          },
          "metadata": {
            "needs_background": "light"
          }
        }
      ]
    },
    {
      "cell_type": "code",
      "source": [
        "score_aff = metrics.silhouette_score(data,labels_aff)\n",
        "\n",
        "print(\"Score of Affinity Propagation = \", score_aff)"
      ],
      "metadata": {
        "execution": {
          "iopub.status.busy": "2022-11-05T11:29:16.265609Z",
          "iopub.execute_input": "2022-11-05T11:29:16.265874Z",
          "iopub.status.idle": "2022-11-05T11:29:16.278411Z",
          "shell.execute_reply.started": "2022-11-05T11:29:16.265843Z",
          "shell.execute_reply": "2022-11-05T11:29:16.277060Z"
        },
        "trusted": true,
        "colab": {
          "base_uri": "https://localhost:8080/"
        },
        "id": "SNu6LEvPkqCT",
        "outputId": "c874938b-8b16-4241-be8a-975ba1f3b90d"
      },
      "execution_count": 69,
      "outputs": [
        {
          "output_type": "stream",
          "name": "stdout",
          "text": [
            "Score of Affinity Propagation =  0.44261870608551\n"
          ]
        }
      ]
    },
    {
      "cell_type": "markdown",
      "source": [
        "<a id = \"6\"></a><br>\n",
        "## 3 - BIRCH\n",
        "BIRCH Clustering (BIRCH is short for Balanced Iterative Reducing and Clustering using\n",
        "Hierarchies) involves constructing a tree structure from which cluster centroids are extracted."
      ],
      "metadata": {
        "id": "QpHD8QeRkqCT"
      }
    },
    {
      "cell_type": "code",
      "source": [
        "model_br = Birch(threshold=0.01, n_clusters=5)\n",
        "model_br.fit(data)\n",
        "#\n",
        "yhat_br = model_br.predict(data)\n",
        "clusters_br = unique(yhat_br)\n",
        "print(\"Clusters of Birch\",clusters_br)\n",
        "labels_br = model_br.labels_"
      ],
      "metadata": {
        "execution": {
          "iopub.status.busy": "2022-11-05T11:29:16.280859Z",
          "iopub.execute_input": "2022-11-05T11:29:16.281298Z",
          "iopub.status.idle": "2022-11-05T11:29:16.338100Z",
          "shell.execute_reply.started": "2022-11-05T11:29:16.281233Z",
          "shell.execute_reply": "2022-11-05T11:29:16.336795Z"
        },
        "trusted": true,
        "colab": {
          "base_uri": "https://localhost:8080/"
        },
        "id": "sSFw5aq2kqCT",
        "outputId": "68e541a6-39fa-483d-98c7-262aad8f40c3"
      },
      "execution_count": 70,
      "outputs": [
        {
          "output_type": "stream",
          "name": "stdout",
          "text": [
            "Clusters of Birch [0 1 2 3 4]\n"
          ]
        }
      ]
    },
    {
      "cell_type": "code",
      "source": [
        "score_br = metrics.silhouette_score(data,labels_br)\n",
        "\n",
        "print(\"Score of Birch = \", score_br)"
      ],
      "metadata": {
        "execution": {
          "iopub.status.busy": "2022-11-05T11:29:16.340451Z",
          "iopub.execute_input": "2022-11-05T11:29:16.341328Z",
          "iopub.status.idle": "2022-11-05T11:29:16.357606Z",
          "shell.execute_reply.started": "2022-11-05T11:29:16.341259Z",
          "shell.execute_reply": "2022-11-05T11:29:16.356300Z"
        },
        "trusted": true,
        "colab": {
          "base_uri": "https://localhost:8080/"
        },
        "id": "9tkJwiGkkqCU",
        "outputId": "c6a31621-7f77-40a8-c1ff-1c710835caa7"
      },
      "execution_count": 71,
      "outputs": [
        {
          "output_type": "stream",
          "name": "stdout",
          "text": [
            "Score of Birch =  0.5555440617229916\n"
          ]
        }
      ]
    },
    {
      "cell_type": "markdown",
      "source": [
        "<a id = \"7\"></a><br>\n",
        "## 4- DBSCAN"
      ],
      "metadata": {
        "id": "rGCk6jMXkqCU"
      }
    },
    {
      "cell_type": "markdown",
      "source": [
        " * DBSCAN Clustering (where DBSCAN is short for Density-Based Spatial Clustering of Applications with Noise) involves finding high-density areas in the domain and expanding those areas of the feature space around them as clusters.\n",
        " * For this data, could not get a good result."
      ],
      "metadata": {
        "id": "IuHOAptPkqCU"
      }
    },
    {
      "cell_type": "code",
      "source": [
        "# dbscan clustering\n",
        "from numpy import unique\n",
        "from numpy import where\n",
        "data_X = data.iloc[:,[0,1]].values"
      ],
      "metadata": {
        "execution": {
          "iopub.status.busy": "2022-11-05T11:29:16.360118Z",
          "iopub.execute_input": "2022-11-05T11:29:16.361191Z",
          "iopub.status.idle": "2022-11-05T11:29:16.370882Z",
          "shell.execute_reply.started": "2022-11-05T11:29:16.361107Z",
          "shell.execute_reply": "2022-11-05T11:29:16.369663Z"
        },
        "trusted": true,
        "id": "xV6RNUdZkqCU"
      },
      "execution_count": 72,
      "outputs": []
    },
    {
      "cell_type": "code",
      "source": [
        "# define the model\n",
        "model = DBSCAN(eps=0.7, min_samples=90)\n",
        "# fit model and predict clusters\n",
        "yhat = model.fit_predict(data_X)\n",
        "# retrieve unique clusters\n",
        "clusters = unique(yhat)\n",
        "# create scatter plot for samples from each cluster\n",
        "for cluster in clusters:\n",
        "\t# get row indexes for samples with this cluster\n",
        "\trow_ix = where(yhat == cluster)\n",
        "\t# create scatter of these samples\n",
        "\tplt.scatter(data_X[row_ix, 0], data_X[row_ix, 1])\n",
        "# show the plot\n",
        "plt.show()"
      ],
      "metadata": {
        "execution": {
          "iopub.status.busy": "2022-11-05T11:29:16.373724Z",
          "iopub.execute_input": "2022-11-05T11:29:16.374661Z",
          "iopub.status.idle": "2022-11-05T11:29:16.626099Z",
          "shell.execute_reply.started": "2022-11-05T11:29:16.374599Z",
          "shell.execute_reply": "2022-11-05T11:29:16.625400Z"
        },
        "trusted": true,
        "colab": {
          "base_uri": "https://localhost:8080/",
          "height": 265
        },
        "id": "wFAVtuRekqCV",
        "outputId": "0e472505-1792-431c-c4e0-859b40140402"
      },
      "execution_count": 73,
      "outputs": [
        {
          "output_type": "display_data",
          "data": {
            "text/plain": [
              "<Figure size 432x288 with 1 Axes>"
            ],
            "image/png": "[encoded data removed]"
          },
          "metadata": {
            "needs_background": "light"
          }
        }
      ]
    },
    {
      "cell_type": "markdown",
      "source": [
        "<a id = \"8\"></a><br>\n",
        "## 5 - Mini Batch K-Means"
      ],
      "metadata": {
        "id": "PPV3TUTXkqCV"
      }
    },
    {
      "cell_type": "markdown",
      "source": [
        "* Mini-Batch K-Means is a modified version of k-means that makes updates to the cluster centroids using mini-batches of samples rather than the entire dataset, which can make it faster for large datasets, and perhaps more robust to statistical noise."
      ],
      "metadata": {
        "id": "YoVRzBorkqCV"
      }
    },
    {
      "cell_type": "code",
      "source": [
        "model_mini = MiniBatchKMeans(n_clusters=2)\n",
        "model_mini.fit(data)\n",
        "#\n",
        "yhat_mini = model_mini.predict(data)\n",
        "clusters_mini = unique(yhat_mini)\n",
        "print(\"Clusters of Mini Batch KMeans.\",clusters_mini)\n",
        "labels_mini = model_mini.labels_\n",
        "centroids_mini = model_mini.cluster_centers_"
      ],
      "metadata": {
        "execution": {
          "iopub.status.busy": "2022-11-05T11:29:16.627595Z",
          "iopub.execute_input": "2022-11-05T11:29:16.628060Z",
          "iopub.status.idle": "2022-11-05T11:29:16.663831Z",
          "shell.execute_reply.started": "2022-11-05T11:29:16.628026Z",
          "shell.execute_reply": "2022-11-05T11:29:16.662978Z"
        },
        "trusted": true,
        "colab": {
          "base_uri": "https://localhost:8080/"
        },
        "id": "T3BXYoplkqCV",
        "outputId": "c6a69055-e9f1-49b5-bca0-b007fdf9fb60"
      },
      "execution_count": 74,
      "outputs": [
        {
          "output_type": "stream",
          "name": "stdout",
          "text": [
            "Clusters of Mini Batch KMeans. [0 1]\n"
          ]
        }
      ]
    },
    {
      "cell_type": "code",
      "source": [
        "wscc = []\n",
        "for i in range(1,15): \n",
        "    mkmeans = MiniBatchKMeans(n_clusters=i, init=\"k-means++\",random_state=0)\n",
        "    mkmeans.fit(data)\n",
        "    wscc.append(mkmeans.inertia_)  \n",
        "\n",
        "plt.plot(range(1,15),wscc,marker=\"*\",c=\"black\")\n",
        "plt.title(\"Elbow plot for Mini Batch KMeans\")"
      ],
      "metadata": {
        "execution": {
          "iopub.status.busy": "2022-11-05T11:29:16.665687Z",
          "iopub.execute_input": "2022-11-05T11:29:16.666206Z",
          "iopub.status.idle": "2022-11-05T11:29:17.189947Z",
          "shell.execute_reply.started": "2022-11-05T11:29:16.666143Z",
          "shell.execute_reply": "2022-11-05T11:29:17.189201Z"
        },
        "trusted": true,
        "colab": {
          "base_uri": "https://localhost:8080/",
          "height": 298
        },
        "id": "3xHM21w5kqCW",
        "outputId": "cb859d0d-257d-42a2-dba0-75dd0607e126"
      },
      "execution_count": 75,
      "outputs": [
        {
          "output_type": "execute_result",
          "data": {
            "text/plain": [
              "Text(0.5, 1.0, 'Elbow plot for Mini Batch KMeans')"
            ]
          },
          "metadata": {},
          "execution_count": 75
        },
        {
          "output_type": "display_data",
          "data": {
            "text/plain": [
              "<Figure size 432x288 with 1 Axes>"
            ],
            "image/png": "[encoded data removed]"
          },
          "metadata": {
            "needs_background": "light"
          }
        }
      ]
    },
    {
      "cell_type": "code",
      "source": [
        "model_mini = MiniBatchKMeans(n_clusters=5)\n",
        "model_mini.fit(data)\n",
        "#\n",
        "yhat_mini = model_mini.predict(data)\n",
        "clusters_mini = unique(yhat_mini)\n",
        "print(\"Clusters of Mini Batch KMeans.\",clusters_mini)\n",
        "labels_mini = model_mini.labels_\n",
        "centroids_mini = model_mini.cluster_centers_"
      ],
      "metadata": {
        "execution": {
          "iopub.status.busy": "2022-11-05T11:29:17.191231Z",
          "iopub.execute_input": "2022-11-05T11:29:17.191665Z",
          "iopub.status.idle": "2022-11-05T11:29:17.235130Z",
          "shell.execute_reply.started": "2022-11-05T11:29:17.191633Z",
          "shell.execute_reply": "2022-11-05T11:29:17.234056Z"
        },
        "trusted": true,
        "colab": {
          "base_uri": "https://localhost:8080/"
        },
        "id": "8-On2-9GkqCW",
        "outputId": "239e65bb-d9cc-4bcc-e903-b24e64c159e1"
      },
      "execution_count": 76,
      "outputs": [
        {
          "output_type": "stream",
          "name": "stdout",
          "text": [
            "Clusters of Mini Batch KMeans. [0 1 2 3 4]\n"
          ]
        }
      ]
    },
    {
      "cell_type": "code",
      "source": [
        "plt.figure(figsize=(10, 8))\n",
        "\n",
        "plt.scatter(data['Annual Income (k$)'], \n",
        "            data['Spending Score (1-100)'], \n",
        "            c=labels_mini, s=100)\n",
        "\n",
        "plt.scatter(centroids_mini[:,0], centroids_mini[:,1], color='red', marker='*', s=200) \n",
        "\n",
        "plt.xlabel('Annual Income')\n",
        "plt.ylabel('Spending Score')\n",
        "plt.title('Mini Batch KMeans')\n",
        "plt.grid()\n",
        "plt.show()"
      ],
      "metadata": {
        "execution": {
          "iopub.status.busy": "2022-11-05T11:29:17.237116Z",
          "iopub.execute_input": "2022-11-05T11:29:17.237488Z",
          "iopub.status.idle": "2022-11-05T11:29:17.454203Z",
          "shell.execute_reply.started": "2022-11-05T11:29:17.237449Z",
          "shell.execute_reply": "2022-11-05T11:29:17.452917Z"
        },
        "trusted": true,
        "colab": {
          "base_uri": "https://localhost:8080/",
          "height": 513
        },
        "id": "mm_dtlxmkqCW",
        "outputId": "f8157699-8cf5-4ec8-9eed-9cf17a6c74be"
      },
      "execution_count": 77,
      "outputs": [
        {
          "output_type": "display_data",
          "data": {
            "text/plain": [
              "<Figure size 720x576 with 1 Axes>"
            ],
            "image/png": "[encoded data removed]"
          },
          "metadata": {
            "needs_background": "light"
          }
        }
      ]
    },
    {
      "cell_type": "code",
      "source": [
        "score_mini = metrics.silhouette_score(data,labels_mini)\n",
        "\n",
        "print(\"Score of Birch = \", score_mini)"
      ],
      "metadata": {
        "execution": {
          "iopub.status.busy": "2022-11-05T11:29:17.456257Z",
          "iopub.execute_input": "2022-11-05T11:29:17.456673Z",
          "iopub.status.idle": "2022-11-05T11:29:17.471299Z",
          "shell.execute_reply.started": "2022-11-05T11:29:17.456632Z",
          "shell.execute_reply": "2022-11-05T11:29:17.469536Z"
        },
        "trusted": true,
        "colab": {
          "base_uri": "https://localhost:8080/"
        },
        "id": "VOfnLYnmkqCW",
        "outputId": "5560b8b6-5de3-4cdd-b706-9e14f5626ada"
      },
      "execution_count": 78,
      "outputs": [
        {
          "output_type": "stream",
          "name": "stdout",
          "text": [
            "Score of Birch =  0.5537881008308215\n"
          ]
        }
      ]
    },
    {
      "cell_type": "markdown",
      "source": [
        "<a id = \"9\"></a><br>\n",
        "## 6 - Mean Shift"
      ],
      "metadata": {
        "id": "8f6t3uHGkqCX"
      }
    },
    {
      "cell_type": "markdown",
      "source": [
        "* Mean shift clustering involves finding and adapting centroids based on the density of examples in the feature space."
      ],
      "metadata": {
        "id": "iNTlH6SrkqCX"
      }
    },
    {
      "cell_type": "code",
      "source": [
        "model_ms = MeanShift(bandwidth=25)\n",
        "model_ms.fit(data)\n",
        "#\n",
        "yhat_ms = model_ms.predict(data)\n",
        "clusters_ms = unique(yhat_ms)\n",
        "print(\"Clusters of Mean Shift.\",clusters_ms)\n",
        "labels_ms = model_ms.labels_\n",
        "centroids_ms = model_ms.cluster_centers_"
      ],
      "metadata": {
        "execution": {
          "iopub.status.busy": "2022-11-05T11:29:17.473559Z",
          "iopub.execute_input": "2022-11-05T11:29:17.473930Z",
          "iopub.status.idle": "2022-11-05T11:29:17.941249Z",
          "shell.execute_reply.started": "2022-11-05T11:29:17.473886Z",
          "shell.execute_reply": "2022-11-05T11:29:17.940179Z"
        },
        "trusted": true,
        "colab": {
          "base_uri": "https://localhost:8080/"
        },
        "id": "e_ZiwyNUkqCX",
        "outputId": "99e9453e-3f99-49ef-acf3-692fb8ca8da8"
      },
      "execution_count": 79,
      "outputs": [
        {
          "output_type": "stream",
          "name": "stdout",
          "text": [
            "Clusters of Mean Shift. [0 1 2 3 4]\n"
          ]
        }
      ]
    },
    {
      "cell_type": "code",
      "source": [
        "plt.figure(figsize=(10, 8))\n",
        "\n",
        "plt.scatter(data['Annual Income (k$)'], \n",
        "            data['Spending Score (1-100)'], \n",
        "            c=labels_ms, s=100)\n",
        "\n",
        "plt.scatter(centroids_ms[:,0], centroids_ms[:,1], color='red', marker='*', s=200) \n",
        "\n",
        "plt.xlabel('Annual Income')\n",
        "plt.ylabel('Spending Score')\n",
        "plt.title('Mean Shift')\n",
        "plt.grid()\n",
        "plt.show()"
      ],
      "metadata": {
        "execution": {
          "iopub.status.busy": "2022-11-05T11:29:17.942682Z",
          "iopub.execute_input": "2022-11-05T11:29:17.942928Z",
          "iopub.status.idle": "2022-11-05T11:29:18.149936Z",
          "shell.execute_reply.started": "2022-11-05T11:29:17.942901Z",
          "shell.execute_reply": "2022-11-05T11:29:18.148845Z"
        },
        "trusted": true,
        "colab": {
          "base_uri": "https://localhost:8080/",
          "height": 513
        },
        "id": "6YFwOp_9kqCY",
        "outputId": "e52452fb-318b-4e2b-d18b-cb141605faa0"
      },
      "execution_count": 80,
      "outputs": [
        {
          "output_type": "display_data",
          "data": {
            "text/plain": [
              "<Figure size 720x576 with 1 Axes>"
            ],
            "image/png": "[encoded data removed]"
          },
          "metadata": {
            "needs_background": "light"
          }
        }
      ]
    },
    {
      "cell_type": "code",
      "source": [
        "score_ms = metrics.silhouette_score(data,labels_ms)\n",
        "\n",
        "print(\"Score of Mean Shift = \", score_ms)"
      ],
      "metadata": {
        "execution": {
          "iopub.status.busy": "2022-11-05T11:29:18.151298Z",
          "iopub.execute_input": "2022-11-05T11:29:18.151540Z",
          "iopub.status.idle": "2022-11-05T11:29:18.166397Z",
          "shell.execute_reply.started": "2022-11-05T11:29:18.151512Z",
          "shell.execute_reply": "2022-11-05T11:29:18.164408Z"
        },
        "trusted": true,
        "colab": {
          "base_uri": "https://localhost:8080/"
        },
        "id": "u_XR3J86kqCY",
        "outputId": "08edd676-c660-4815-86a2-3468d4e170b3"
      },
      "execution_count": 81,
      "outputs": [
        {
          "output_type": "stream",
          "name": "stdout",
          "text": [
            "Score of Mean Shift =  0.5505629344550914\n"
          ]
        }
      ]
    },
    {
      "cell_type": "markdown",
      "source": [
        "<a id = \"10\"></a><br>\n",
        "## 7 - OPTICS"
      ],
      "metadata": {
        "id": "kj1kvjDekqCY"
      }
    },
    {
      "cell_type": "markdown",
      "source": [
        "* OPTICS clustering (where OPTICS is short for Ordering Points To Identify the Clustering Structure) is a modified version of DBSCAN described above.\n",
        "* In this case, I could not achieve a reasonable result on this dataset."
      ],
      "metadata": {
        "id": "p01R2nBwkqCY"
      }
    },
    {
      "cell_type": "code",
      "source": [
        "model_op = OPTICS(eps=0.8, min_samples=10)\n",
        "#\n",
        "yhat_op = model_op.fit_predict(data)\n",
        "clusters_op = unique(yhat_op)\n",
        "print(\"Clusters of Mean Shift.\",clusters_op)\n",
        "labels_op = model_op.labels_"
      ],
      "metadata": {
        "execution": {
          "iopub.status.busy": "2022-11-05T11:29:18.169418Z",
          "iopub.execute_input": "2022-11-05T11:29:18.169908Z",
          "iopub.status.idle": "2022-11-05T11:29:18.373235Z",
          "shell.execute_reply.started": "2022-11-05T11:29:18.169852Z",
          "shell.execute_reply": "2022-11-05T11:29:18.372290Z"
        },
        "trusted": true,
        "colab": {
          "base_uri": "https://localhost:8080/"
        },
        "id": "GBPjHg2rkqCZ",
        "outputId": "364d3d92-4e2b-42b9-e572-aeb715efb80c"
      },
      "execution_count": 82,
      "outputs": [
        {
          "output_type": "stream",
          "name": "stdout",
          "text": [
            "Clusters of Mean Shift. [-1  0  1  2  3  4  5]\n"
          ]
        }
      ]
    },
    {
      "cell_type": "code",
      "source": [
        "score_op = metrics.silhouette_score(data,labels_op)\n",
        "\n",
        "print(\"Score of Mean Shift = \", score_op)"
      ],
      "metadata": {
        "execution": {
          "iopub.status.busy": "2022-11-05T11:29:18.374407Z",
          "iopub.execute_input": "2022-11-05T11:29:18.374766Z",
          "iopub.status.idle": "2022-11-05T11:29:18.387122Z",
          "shell.execute_reply.started": "2022-11-05T11:29:18.374736Z",
          "shell.execute_reply": "2022-11-05T11:29:18.385958Z"
        },
        "trusted": true,
        "colab": {
          "base_uri": "https://localhost:8080/"
        },
        "id": "m2ZpsqutkqCZ",
        "outputId": "f5e97332-3c01-44e0-fe2a-b75a4a0c1a41"
      },
      "execution_count": 83,
      "outputs": [
        {
          "output_type": "stream",
          "name": "stdout",
          "text": [
            "Score of Mean Shift =  0.12978282543522504\n"
          ]
        }
      ]
    },
    {
      "cell_type": "markdown",
      "source": [
        "<a id = \"11\"></a><br>\n",
        "## 8 - Spectral Clustering"
      ],
      "metadata": {
        "id": "iwMT8pPukqCZ"
      }
    },
    {
      "cell_type": "markdown",
      "source": [
        "* Spectral Clustering is a general class of clustering methods, drawn from linear algebra."
      ],
      "metadata": {
        "id": "L0AX_bmNkqCa"
      }
    },
    {
      "cell_type": "code",
      "source": [
        "model_sc = SpectralClustering(n_clusters=5)\n",
        "#\n",
        "yhat_sc = model_sc.fit_predict(data)\n",
        "clusters_sc = unique(yhat_sc)\n",
        "print(\"Clusters of Mean Shift.\",clusters_sc)\n",
        "labels_sc = model_sc.labels_"
      ],
      "metadata": {
        "execution": {
          "iopub.status.busy": "2022-11-05T11:29:18.389100Z",
          "iopub.execute_input": "2022-11-05T11:29:18.390078Z",
          "iopub.status.idle": "2022-11-05T11:29:23.704808Z",
          "shell.execute_reply.started": "2022-11-05T11:29:18.390000Z",
          "shell.execute_reply": "2022-11-05T11:29:23.703858Z"
        },
        "trusted": true,
        "colab": {
          "base_uri": "https://localhost:8080/"
        },
        "id": "hDkNDAqYkqCa",
        "outputId": "e7a08cb8-8461-4e5c-a4dd-e6b8f6dcc0ca"
      },
      "execution_count": 84,
      "outputs": [
        {
          "output_type": "stream",
          "name": "stdout",
          "text": [
            "Clusters of Mean Shift. [1 2 3 4]\n"
          ]
        },
        {
          "output_type": "stream",
          "name": "stderr",
          "text": [
            "/usr/local/lib/python3.7/dist-packages/sklearn/cluster/_kmeans.py:376: ConvergenceWarning: Number of distinct clusters (4) found smaller than n_clusters (5). Possibly due to duplicate points in X.\n",
            "  ).fit(X, sample_weight=sample_weight)\n"
          ]
        }
      ]
    },
    {
      "cell_type": "code",
      "source": [
        "score_sc = metrics.silhouette_score(data,labels_sc)\n",
        "\n",
        "print(\"Score of Mean Shift = \", score_sc)"
      ],
      "metadata": {
        "execution": {
          "iopub.status.busy": "2022-11-05T11:29:23.706337Z",
          "iopub.execute_input": "2022-11-05T11:29:23.706616Z",
          "iopub.status.idle": "2022-11-05T11:29:23.719835Z",
          "shell.execute_reply.started": "2022-11-05T11:29:23.706583Z",
          "shell.execute_reply": "2022-11-05T11:29:23.718635Z"
        },
        "trusted": true,
        "colab": {
          "base_uri": "https://localhost:8080/"
        },
        "id": "5FqFIYfQkqCb",
        "outputId": "3b74164b-30c7-4aef-e10c-ecd4b48d5a72"
      },
      "execution_count": 85,
      "outputs": [
        {
          "output_type": "stream",
          "name": "stdout",
          "text": [
            "Score of Mean Shift =  0.3122030605599965\n"
          ]
        }
      ]
    },
    {
      "cell_type": "markdown",
      "source": [
        "<a id = \"12\"></a><br>\n",
        "## 9 - Gaussian Mixture Model"
      ],
      "metadata": {
        "id": "v01TaDlCkqCb"
      }
    },
    {
      "cell_type": "markdown",
      "source": [
        "* A Gaussian mixture model summarizes a multivariate probability density function with a mixture of Gaussian probability distributions as its name suggests."
      ],
      "metadata": {
        "id": "a0qBmFPXkqCb"
      }
    },
    {
      "cell_type": "code",
      "source": [
        "from numpy import unique\n",
        "from numpy import where\n",
        "data_X = data.iloc[:,[0,1]].values"
      ],
      "metadata": {
        "execution": {
          "iopub.status.busy": "2022-11-05T11:29:23.721964Z",
          "iopub.execute_input": "2022-11-05T11:29:23.722655Z",
          "iopub.status.idle": "2022-11-05T11:29:23.737048Z",
          "shell.execute_reply.started": "2022-11-05T11:29:23.722589Z",
          "shell.execute_reply": "2022-11-05T11:29:23.735727Z"
        },
        "trusted": true,
        "id": "slqLpaInkqCc"
      },
      "execution_count": 86,
      "outputs": []
    },
    {
      "cell_type": "code",
      "source": [
        "model_gb = GaussianMixture(n_components=5)\n",
        "model_gb.fit(data_X)\n",
        "#\n",
        "yhat_gb = model_gb.predict(data_X)\n",
        "clusters_gb = unique(yhat_gb)\n",
        "# create scatter plot for samples from each cluster\n",
        "for cluster in clusters_gb:\n",
        "\t# get row indexes for samples with this cluster\n",
        "\trow_ix = where(yhat_gb == cluster)\n",
        "\t# create scatter of these samples\n",
        "\tplt.scatter(data_X[row_ix, 0], data_X[row_ix, 1])\n",
        "# show the plot\n",
        "plt.show()"
      ],
      "metadata": {
        "execution": {
          "iopub.status.busy": "2022-11-05T11:29:23.739264Z",
          "iopub.execute_input": "2022-11-05T11:29:23.740097Z",
          "iopub.status.idle": "2022-11-05T11:29:24.032810Z",
          "shell.execute_reply.started": "2022-11-05T11:29:23.740029Z",
          "shell.execute_reply": "2022-11-05T11:29:24.032105Z"
        },
        "trusted": true,
        "colab": {
          "base_uri": "https://localhost:8080/",
          "height": 265
        },
        "id": "cdhYNH8wkqCc",
        "outputId": "48be8ae7-c2fd-4b93-8654-21683e0ed4a8"
      },
      "execution_count": 87,
      "outputs": [
        {
          "output_type": "display_data",
          "data": {
            "text/plain": [
              "<Figure size 432x288 with 1 Axes>"
            ],
            "image/png": "[encoded data removed]"
          },
          "metadata": {
            "needs_background": "light"
          }
        }
      ]
    },
    {
      "cell_type": "markdown",
      "source": [
        "<a id = \"13\"></a><br>\n",
        "## 10 - Agglomerative Clustering"
      ],
      "metadata": {
        "id": "SnRPfTSBkqCc"
      }
    },
    {
      "cell_type": "markdown",
      "source": [
        "* Agglomerative clustering involves merging examples until the desired number of clusters is achieved."
      ],
      "metadata": {
        "id": "JNnzXz-lkqCc"
      }
    },
    {
      "cell_type": "code",
      "source": [
        "model_agg = AgglomerativeClustering(n_clusters=5)\n",
        "#\n",
        "yhat_agg = model_agg.fit_predict(data)\n",
        "clusters_agg = unique(yhat_agg)\n",
        "print(\"Clusters of Mini Batch KMeans.\",clusters_agg)\n",
        "labels_agg = model_agg.labels_"
      ],
      "metadata": {
        "execution": {
          "iopub.status.busy": "2022-11-05T11:29:24.036506Z",
          "iopub.execute_input": "2022-11-05T11:29:24.036994Z",
          "iopub.status.idle": "2022-11-05T11:29:24.046243Z",
          "shell.execute_reply.started": "2022-11-05T11:29:24.036938Z",
          "shell.execute_reply": "2022-11-05T11:29:24.045407Z"
        },
        "trusted": true,
        "colab": {
          "base_uri": "https://localhost:8080/"
        },
        "id": "KyDrCxzokqCd",
        "outputId": "60461258-6445-4e6f-b6c5-58a77c933321"
      },
      "execution_count": 88,
      "outputs": [
        {
          "output_type": "stream",
          "name": "stdout",
          "text": [
            "Clusters of Mini Batch KMeans. [0 1 2 3 4]\n"
          ]
        }
      ]
    },
    {
      "cell_type": "code",
      "source": [
        "score_agg = metrics.silhouette_score(data,labels_agg)\n",
        "\n",
        "print(\"Score of Mean Shift = \", score_agg)"
      ],
      "metadata": {
        "execution": {
          "iopub.status.busy": "2022-11-05T11:29:24.048141Z",
          "iopub.execute_input": "2022-11-05T11:29:24.048452Z",
          "iopub.status.idle": "2022-11-05T11:29:24.064082Z",
          "shell.execute_reply.started": "2022-11-05T11:29:24.048421Z",
          "shell.execute_reply": "2022-11-05T11:29:24.063012Z"
        },
        "trusted": true,
        "colab": {
          "base_uri": "https://localhost:8080/"
        },
        "id": "Q4mGNuLSkqCd",
        "outputId": "790c3804-8762-4c69-eda9-36c69fb59af5"
      },
      "execution_count": 89,
      "outputs": [
        {
          "output_type": "stream",
          "name": "stdout",
          "text": [
            "Score of Mean Shift =  0.5555440617229916\n"
          ]
        }
      ]
    },
    {
      "cell_type": "markdown",
      "source": [
        "<a id = \"14\"></a><br>\n",
        "## References"
      ],
      "metadata": {
        "id": "jKRrH5GUkqCd"
      }
    },
    {
      "cell_type": "markdown",
      "source": [
        "* https://machinelearningmastery.com/clustering-algorithms-with-python/\n",
        "* https://www.kaggle.com/code/abdulmeral/10-models-for-clustering\n",
        "* https://scikit-learn.org/stable/modules/clustering.html"
      ],
      "metadata": {
        "id": "-SbNybh5kqCe"
      }
    }
  ]
}